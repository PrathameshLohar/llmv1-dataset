{
 "cells": [
  {
   "cell_type": "code",
   "execution_count": 1,
   "metadata": {},
   "outputs": [],
   "source": [
    "from youtube_transcript_api import YouTubeTranscriptApi as yta;\n",
    "import re;"
   ]
  },
  {
   "cell_type": "code",
   "execution_count": 2,
   "id": "6187f088",
   "metadata": {},
   "outputs": [],
   "source": [
    "# 1 https://www.youtube.com/watch?v=O4EdeEZSAA0\n",
    "# 2 https://www.youtube.com/watch?v=HMwW7TWS3SM\n",
    "# 3 https://www.youtube.com/watch?v=AuSOQ3Tdkqc\n",
    "# 4 https://www.youtube.com/watch?v=5hENFA3CJUY\n",
    "# 5 https://www.youtube.com/watch?v=GKmXqPG8u-o\n",
    "\n",
    "# 6 https://www.youtube.com/watch?v=EcHpgsTg458\n",
    "# 7 https://www.youtube.com/watch?v=j8hsCx7FFNk\n",
    "# 8 https://www.youtube.com/watch?v=cvb49-Csq1o\n",
    "# 9 https://www.youtube.com/watch?v=k9nlBR6sE1k\n",
    "# 10 https://www.youtube.com/watch?v=h43LT-HVeVQ\n",
    "\n",
    "# 11 https://www.youtube.com/watch?v=PgosgAbu6bA\n",
    "# 12 https://www.youtube.com/watch?v=-6SramDEDvc\n",
    "# 13 https://www.youtube.com/watch?v=7pjPD-3zD5o\n",
    "# 14 https://www.youtube.com/watch?v=MWSz15TYKtY\n",
    "\n",
    "# 15 https://www.youtube.com/watch?v=_hxAfrslBNw\n",
    "# 16 https://www.youtube.com/watch?v=jDmIlylMPIc\n",
    "# 17 https://www.youtube.com/watch?v=N0earPdA5qE\n",
    "# 18 https://www.youtube.com/watch?v=lHgFKCWK6m4\n",
    "# 19 https://www.youtube.com/watch?v=JuA9UWSGMHs\n",
    "# 20 https://www.youtube.com/watch?v=ylZ6w6eYRjI\n",
    "# 21 https://www.youtube.com/watch?v=14ZC0YF2RD0\n",
    "# 22 https://www.youtube.com/watch?v=a__WNOhL2q4\n",
    "# 23 https://www.youtube.com/watch?v=Datb3qWeFJU\n",
    "# 24 https://www.youtube.com/watch?v=IB3F5GW_J-o\n",
    "# 25 https://www.youtube.com/watch?v=ca5aRYgc6AI\n",
    "# 26 https://www.youtube.com/watch?v=d0q6e8MJ8P4\n",
    "# 27 https://www.youtube.com/watch?v=t2apM4fOvHI\n",
    "# 28 https://www.youtube.com/watch?v=vLtZ84pF-nU\n",
    "# 29 https://www.youtube.com/watch?v=4Sd0iEtdanc\n",
    "# 30 https://www.youtube.com/watch?v=be_30NpFTnc\n",
    "# 31 https://www.youtube.com/watch?v=XTAziR-tY-A\n",
    "\n",
    "# 32 https://www.youtube.com/watch?v=lzSGmoZK_rQ\n",
    "# 33 https://www.youtube.com/watch?v=JjwXgu56Nr8\n",
    "# 34 https://www.youtube.com/watch?v=BxPAKbhelC4\n",
    "# 35 https://www.youtube.com/watch?v=tb7LKt_lr4M\n",
    "# 36 https://www.youtube.com/watch?v=er8aPPNNuEs\n",
    "v_id= \"er8aPPNNuEs\""
   ]
  },
  {
   "cell_type": "code",
   "execution_count": 3,
   "id": "20f04b34",
   "metadata": {},
   "outputs": [],
   "source": [
    "data= yta.get_transcript(v_id)"
   ]
  },
  {
   "cell_type": "code",
   "execution_count": 4,
   "id": "e3df268a",
   "metadata": {},
   "outputs": [],
   "source": [
    "transcript=\"\"\n",
    "for value in data:\n",
    "    for key, val in value.items():\n",
    "        if key=='text':\n",
    "            transcript += val\n",
    "\n",
    "l= transcript.splitlines()\n",
    "final_tra= \" \".join(l)"
   ]
  },
  {
   "cell_type": "code",
   "execution_count": 5,
   "id": "d3bed0e3",
   "metadata": {},
   "outputs": [],
   "source": [
    "file = open(\"./dataset/v37.txt\", 'w', encoding=\"utf-8\")\n",
    "file.write(final_tra)\n",
    "file.close()"
   ]
  },
  {
   "cell_type": "code",
   "execution_count": null,
   "id": "7e0272c2",
   "metadata": {},
   "outputs": [],
   "source": []
  }
 ],
 "metadata": {
  "kernelspec": {
   "display_name": "yt_video_transcript",
   "language": "python",
   "name": "python3"
  },
  "language_info": {
   "codemirror_mode": {
    "name": "ipython",
    "version": 3
   },
   "file_extension": ".py",
   "mimetype": "text/x-python",
   "name": "python",
   "nbconvert_exporter": "python",
   "pygments_lexer": "ipython3",
   "version": "3.11.0"
  }
 },
 "nbformat": 4,
 "nbformat_minor": 5
}
